{
 "cells": [
  {
   "cell_type": "code",
   "execution_count": 34,
   "id": "f95373e5",
   "metadata": {},
   "outputs": [],
   "source": [
    "import numpy as np\n",
    "import pandas as pd\n",
    "\n",
    "from sklearn.model_selection import train_test_split\n",
    "from sklearn.preprocessing import MinMaxScaler\n",
    "\n",
    "import matplotlib.pyplot as plt\n",
    "import seaborn as sns\n",
    "\n",
    "%matplotlib inline\n",
    "sns.set_style(\"darkgrid\")"
   ]
  },
  {
   "cell_type": "markdown",
   "id": "3121d41c",
   "metadata": {},
   "source": [
    "## IRIS DATASET"
   ]
  },
  {
   "cell_type": "markdown",
   "id": "ef70851f",
   "metadata": {},
   "source": [
    "#### LOAD DATA"
   ]
  },
  {
   "cell_type": "code",
   "execution_count": 35,
   "id": "3ea985d6",
   "metadata": {},
   "outputs": [
    {
     "data": {
      "text/html": [
       "<div>\n",
       "<style scoped>\n",
       "    .dataframe tbody tr th:only-of-type {\n",
       "        vertical-align: middle;\n",
       "    }\n",
       "\n",
       "    .dataframe tbody tr th {\n",
       "        vertical-align: top;\n",
       "    }\n",
       "\n",
       "    .dataframe thead th {\n",
       "        text-align: right;\n",
       "    }\n",
       "</style>\n",
       "<table border=\"1\" class=\"dataframe\">\n",
       "  <thead>\n",
       "    <tr style=\"text-align: right;\">\n",
       "      <th></th>\n",
       "      <th>sepal_length</th>\n",
       "      <th>sepal_width</th>\n",
       "      <th>petal_length</th>\n",
       "      <th>petal_width</th>\n",
       "      <th>Iris-setosa</th>\n",
       "      <th>Iris-versicolor</th>\n",
       "      <th>Iris-virginica</th>\n",
       "    </tr>\n",
       "  </thead>\n",
       "  <tbody>\n",
       "    <tr>\n",
       "      <th>0</th>\n",
       "      <td>5.1</td>\n",
       "      <td>3.5</td>\n",
       "      <td>1.4</td>\n",
       "      <td>0.2</td>\n",
       "      <td>1</td>\n",
       "      <td>0</td>\n",
       "      <td>0</td>\n",
       "    </tr>\n",
       "    <tr>\n",
       "      <th>1</th>\n",
       "      <td>4.9</td>\n",
       "      <td>3.0</td>\n",
       "      <td>1.4</td>\n",
       "      <td>0.2</td>\n",
       "      <td>1</td>\n",
       "      <td>0</td>\n",
       "      <td>0</td>\n",
       "    </tr>\n",
       "    <tr>\n",
       "      <th>2</th>\n",
       "      <td>4.7</td>\n",
       "      <td>3.2</td>\n",
       "      <td>1.3</td>\n",
       "      <td>0.2</td>\n",
       "      <td>1</td>\n",
       "      <td>0</td>\n",
       "      <td>0</td>\n",
       "    </tr>\n",
       "    <tr>\n",
       "      <th>3</th>\n",
       "      <td>4.6</td>\n",
       "      <td>3.1</td>\n",
       "      <td>1.5</td>\n",
       "      <td>0.2</td>\n",
       "      <td>1</td>\n",
       "      <td>0</td>\n",
       "      <td>0</td>\n",
       "    </tr>\n",
       "    <tr>\n",
       "      <th>4</th>\n",
       "      <td>5.0</td>\n",
       "      <td>3.6</td>\n",
       "      <td>1.4</td>\n",
       "      <td>0.2</td>\n",
       "      <td>1</td>\n",
       "      <td>0</td>\n",
       "      <td>0</td>\n",
       "    </tr>\n",
       "    <tr>\n",
       "      <th>...</th>\n",
       "      <td>...</td>\n",
       "      <td>...</td>\n",
       "      <td>...</td>\n",
       "      <td>...</td>\n",
       "      <td>...</td>\n",
       "      <td>...</td>\n",
       "      <td>...</td>\n",
       "    </tr>\n",
       "    <tr>\n",
       "      <th>145</th>\n",
       "      <td>6.7</td>\n",
       "      <td>3.0</td>\n",
       "      <td>5.2</td>\n",
       "      <td>2.3</td>\n",
       "      <td>0</td>\n",
       "      <td>0</td>\n",
       "      <td>1</td>\n",
       "    </tr>\n",
       "    <tr>\n",
       "      <th>146</th>\n",
       "      <td>6.3</td>\n",
       "      <td>2.5</td>\n",
       "      <td>5.0</td>\n",
       "      <td>1.9</td>\n",
       "      <td>0</td>\n",
       "      <td>0</td>\n",
       "      <td>1</td>\n",
       "    </tr>\n",
       "    <tr>\n",
       "      <th>147</th>\n",
       "      <td>6.5</td>\n",
       "      <td>3.0</td>\n",
       "      <td>5.2</td>\n",
       "      <td>2.0</td>\n",
       "      <td>0</td>\n",
       "      <td>0</td>\n",
       "      <td>1</td>\n",
       "    </tr>\n",
       "    <tr>\n",
       "      <th>148</th>\n",
       "      <td>6.2</td>\n",
       "      <td>3.4</td>\n",
       "      <td>5.4</td>\n",
       "      <td>2.3</td>\n",
       "      <td>0</td>\n",
       "      <td>0</td>\n",
       "      <td>1</td>\n",
       "    </tr>\n",
       "    <tr>\n",
       "      <th>149</th>\n",
       "      <td>5.9</td>\n",
       "      <td>3.0</td>\n",
       "      <td>5.1</td>\n",
       "      <td>1.8</td>\n",
       "      <td>0</td>\n",
       "      <td>0</td>\n",
       "      <td>1</td>\n",
       "    </tr>\n",
       "  </tbody>\n",
       "</table>\n",
       "<p>150 rows × 7 columns</p>\n",
       "</div>"
      ],
      "text/plain": [
       "     sepal_length  sepal_width  petal_length  petal_width  Iris-setosa  \\\n",
       "0             5.1          3.5           1.4          0.2            1   \n",
       "1             4.9          3.0           1.4          0.2            1   \n",
       "2             4.7          3.2           1.3          0.2            1   \n",
       "3             4.6          3.1           1.5          0.2            1   \n",
       "4             5.0          3.6           1.4          0.2            1   \n",
       "..            ...          ...           ...          ...          ...   \n",
       "145           6.7          3.0           5.2          2.3            0   \n",
       "146           6.3          2.5           5.0          1.9            0   \n",
       "147           6.5          3.0           5.2          2.0            0   \n",
       "148           6.2          3.4           5.4          2.3            0   \n",
       "149           5.9          3.0           5.1          1.8            0   \n",
       "\n",
       "     Iris-versicolor  Iris-virginica  \n",
       "0                  0               0  \n",
       "1                  0               0  \n",
       "2                  0               0  \n",
       "3                  0               0  \n",
       "4                  0               0  \n",
       "..               ...             ...  \n",
       "145                0               1  \n",
       "146                0               1  \n",
       "147                0               1  \n",
       "148                0               1  \n",
       "149                0               1  \n",
       "\n",
       "[150 rows x 7 columns]"
      ]
     },
     "execution_count": 35,
     "metadata": {},
     "output_type": "execute_result"
    }
   ],
   "source": [
    "# loading data\n",
    "data = pd.read_csv(\"iris.csv\")\n",
    "data\n",
    "# one-hot encoding\n",
    "species_one_hot = pd.get_dummies(data.label)\n",
    "data = data.join(species_one_hot)\n",
    "df = data.drop(columns=[\"label\"],axis=1)\n",
    "df"
   ]
  },
  {
   "cell_type": "code",
   "execution_count": 36,
   "id": "1110a027",
   "metadata": {},
   "outputs": [],
   "source": [
    "y = species_one_hot.values\n",
    "x = df.drop(columns=['Iris-setosa', 'Iris-versicolor', 'Iris-virginica'])\n",
    "X_train,X_test,y_train,y_test = train_test_split(x,y,test_size=20,random_state = 7)\n"
   ]
  },
  {
   "cell_type": "markdown",
   "id": "e8f64f51",
   "metadata": {},
   "source": [
    "### HELPER FUNCTIONS"
   ]
  },
  {
   "cell_type": "code",
   "execution_count": 37,
   "id": "916622b2",
   "metadata": {},
   "outputs": [],
   "source": [
    "def accuracy(prediction,labels):\n",
    "    prediction_correct = prediction.round() == labels\n",
    "    accuracy = prediction_correct.mean()\n",
    "    return accuracy\n",
    "def sigmoid(x):\n",
    "    return 1 / ( 1 + np.exp(-x) )\n",
    "def mean_squared_error(predictions,labels):\n",
    "    mse = ((predictions - labels)**2).sum()/(2*N)\n",
    "    return mse"
   ]
  },
  {
   "cell_type": "markdown",
   "id": "10b04554",
   "metadata": {},
   "source": [
    "#### parameters"
   ]
  },
  {
   "cell_type": "code",
   "execution_count": 38,
   "id": "2c9ab38c",
   "metadata": {},
   "outputs": [],
   "source": [
    "learning_rate = 0.1\n",
    "N = y_train.size\n",
    "\n",
    "n_input = 4\n",
    "n_hidden = 6\n",
    "n_output = 3\n",
    "epochs = 50000"
   ]
  },
  {
   "cell_type": "code",
   "execution_count": 39,
   "id": "c22d9635",
   "metadata": {},
   "outputs": [],
   "source": [
    "np.random.seed(3)\n",
    "\n",
    "weights_1 = np.random.normal(scale = 0.5 , size = (n_input,n_hidden)) \n",
    "weights_2 = np.random.normal(scale = 0.5 , size = (n_hidden,n_output))\n",
    "\n",
    "monitoring = {'mean_squared_error':[],'Accuracy':[]}"
   ]
  },
  {
   "cell_type": "markdown",
   "id": "9db4c271",
   "metadata": {},
   "source": [
    "### feedforward and backpropagation"
   ]
  },
  {
   "cell_type": "code",
   "execution_count": 40,
   "id": "14a6e3db",
   "metadata": {},
   "outputs": [],
   "source": [
    "for epoch in range(epochs):\n",
    "    hidden_layer_inputs = np.dot(X_train,weights_1)   ## (150,4) (4,2) ==> (150,2)\n",
    "    # pprint(hidden_layer_input,width = 20)\n",
    "    hidden_layer_outputs = sigmoid(hidden_layer_inputs) ## sigmoid function returns value between (0,1) excluding 0 and 1.\n",
    "    # pprint(hidden_layer_output,width = 20)\n",
    "\n",
    "    output_layer_inputs = np.dot(hidden_layer_outputs,weights_2) ## (150,2) (2,3) ==> (150,3)\n",
    "    output_layer_outputs = sigmoid(output_layer_inputs)\n",
    "\n",
    "    # pprint(output_layer_output,width = 20)\n",
    "    ## backpropagation\n",
    "    mse = mean_squared_error(output_layer_outputs,y_train)\n",
    "    accuracy_value = accuracy(output_layer_outputs,y_train)\n",
    "    monitoring['mean_squared_error'].append(mse)\n",
    "    monitoring['Accuracy'].append(accuracy_value)\n",
    "    \n",
    "\n",
    "    output_layer_error = output_layer_outputs - y_train\n",
    "    output_layer_delta = output_layer_error * output_layer_outputs * ( 1 - output_layer_outputs )\n",
    "\n",
    "    hidden_layer_error = np.dot( output_layer_delta , weights_2.T )\n",
    "    hidden_layer_delta = hidden_layer_error * hidden_layer_outputs * ( 1 - hidden_layer_outputs )\n",
    "\n",
    "    # weight update \n",
    "    weights_2_update = np.dot( hidden_layer_outputs.T , output_layer_delta ) / N\n",
    "    weights_1_update = np.dot( X_train.T , hidden_layer_delta ) / N\n",
    "\n",
    "    weights_2 = weights_2 - learning_rate * weights_2_update\n",
    "    weights_1 = weights_1 - learning_rate * weights_1_update\n"
   ]
  },
  {
   "cell_type": "code",
   "execution_count": 41,
   "id": "9982574e",
   "metadata": {},
   "outputs": [
    {
     "data": {
      "text/html": [
       "<div>\n",
       "<style scoped>\n",
       "    .dataframe tbody tr th:only-of-type {\n",
       "        vertical-align: middle;\n",
       "    }\n",
       "\n",
       "    .dataframe tbody tr th {\n",
       "        vertical-align: top;\n",
       "    }\n",
       "\n",
       "    .dataframe thead th {\n",
       "        text-align: right;\n",
       "    }\n",
       "</style>\n",
       "<table border=\"1\" class=\"dataframe\">\n",
       "  <thead>\n",
       "    <tr style=\"text-align: right;\">\n",
       "      <th></th>\n",
       "      <th>mean_squared_error</th>\n",
       "      <th>Accuracy</th>\n",
       "    </tr>\n",
       "  </thead>\n",
       "  <tbody>\n",
       "    <tr>\n",
       "      <th>0</th>\n",
       "      <td>0.114127</td>\n",
       "      <td>0.594872</td>\n",
       "    </tr>\n",
       "    <tr>\n",
       "      <th>1</th>\n",
       "      <td>0.114066</td>\n",
       "      <td>0.607692</td>\n",
       "    </tr>\n",
       "    <tr>\n",
       "      <th>2</th>\n",
       "      <td>0.114006</td>\n",
       "      <td>0.612821</td>\n",
       "    </tr>\n",
       "    <tr>\n",
       "      <th>3</th>\n",
       "      <td>0.113947</td>\n",
       "      <td>0.612821</td>\n",
       "    </tr>\n",
       "    <tr>\n",
       "      <th>4</th>\n",
       "      <td>0.113887</td>\n",
       "      <td>0.625641</td>\n",
       "    </tr>\n",
       "    <tr>\n",
       "      <th>...</th>\n",
       "      <td>...</td>\n",
       "      <td>...</td>\n",
       "    </tr>\n",
       "    <tr>\n",
       "      <th>49995</th>\n",
       "      <td>0.005644</td>\n",
       "      <td>0.989744</td>\n",
       "    </tr>\n",
       "    <tr>\n",
       "      <th>49996</th>\n",
       "      <td>0.005644</td>\n",
       "      <td>0.989744</td>\n",
       "    </tr>\n",
       "    <tr>\n",
       "      <th>49997</th>\n",
       "      <td>0.005644</td>\n",
       "      <td>0.989744</td>\n",
       "    </tr>\n",
       "    <tr>\n",
       "      <th>49998</th>\n",
       "      <td>0.005644</td>\n",
       "      <td>0.989744</td>\n",
       "    </tr>\n",
       "    <tr>\n",
       "      <th>49999</th>\n",
       "      <td>0.005644</td>\n",
       "      <td>0.989744</td>\n",
       "    </tr>\n",
       "  </tbody>\n",
       "</table>\n",
       "<p>50000 rows × 2 columns</p>\n",
       "</div>"
      ],
      "text/plain": [
       "       mean_squared_error  Accuracy\n",
       "0                0.114127  0.594872\n",
       "1                0.114066  0.607692\n",
       "2                0.114006  0.612821\n",
       "3                0.113947  0.612821\n",
       "4                0.113887  0.625641\n",
       "...                   ...       ...\n",
       "49995            0.005644  0.989744\n",
       "49996            0.005644  0.989744\n",
       "49997            0.005644  0.989744\n",
       "49998            0.005644  0.989744\n",
       "49999            0.005644  0.989744\n",
       "\n",
       "[50000 rows x 2 columns]"
      ]
     },
     "execution_count": 41,
     "metadata": {},
     "output_type": "execute_result"
    }
   ],
   "source": [
    "monitoring_df = pd.DataFrame(monitoring)\n",
    "monitoring_df"
   ]
  },
  {
   "cell_type": "code",
   "execution_count": 46,
   "id": "a19d4821",
   "metadata": {},
   "outputs": [
    {
     "data": {
      "text/plain": [
       "<AxesSubplot:title={'center':'Accuracy'}>"
      ]
     },
     "execution_count": 46,
     "metadata": {},
     "output_type": "execute_result"
    },
    {
     "data": {
      "image/png": "[encoded data removed]",
      "text/plain": [
       "<Figure size 1080x360 with 2 Axes>"
      ]
     },
     "metadata": {},
     "output_type": "display_data"
    }
   ],
   "source": [
    "fig ,ax = plt.subplots(1,2,figsize=(15,5))\n",
    "\n",
    "monitoring_df.mean_squared_error.plot(ax = ax[0],title=\"Mean squared Error\")\n",
    "monitoring_df.Accuracy.plot(ax = ax[1],title = \"Accuracy\")\n",
    "### The error has decreased gradually from the graph and increase in the accuracy."
   ]
  },
  {
   "cell_type": "markdown",
   "id": "d6f0f99c",
   "metadata": {},
   "source": [
    "### TESTING"
   ]
  },
  {
   "cell_type": "code",
   "execution_count": 43,
   "id": "98bbdea1",
   "metadata": {},
   "outputs": [],
   "source": [
    "hidden_layer_inputs = np.dot(X_test,weights_1)  \n",
    "hidden_layer_outputs = sigmoid(hidden_layer_inputs) \n",
    "\n",
    "output_layer_inputs = np.dot(hidden_layer_outputs,weights_2) \n",
    "output_layer_outputs = sigmoid(output_layer_inputs)"
   ]
  },
  {
   "cell_type": "code",
   "execution_count": 44,
   "id": "c60fd56c",
   "metadata": {},
   "outputs": [
    {
     "name": "stdout",
     "output_type": "stream",
     "text": [
      "Accuracy :0.9\n"
     ]
    }
   ],
   "source": [
    "acc = accuracy(output_layer_outputs,y_test)\n",
    "print(f\"Accuracy :{acc}\")"
   ]
  },
  {
   "cell_type": "code",
   "execution_count": null,
   "id": "e895fb61",
   "metadata": {},
   "outputs": [],
   "source": []
  }
 ],
 "metadata": {
  "kernelspec": {
   "display_name": "Python 3 (ipykernel)",
   "language": "python",
   "name": "python3"
  },
  "language_info": {
   "codemirror_mode": {
    "name": "ipython",
    "version": 3
   },
   "file_extension": ".py",
   "mimetype": "text/x-python",
   "name": "python",
   "nbconvert_exporter": "python",
   "pygments_lexer": "ipython3",
   "version": "3.8.13"
  }
 },
 "nbformat": 4,
 "nbformat_minor": 5
}
